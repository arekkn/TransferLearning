{
 "cells": [
  {
   "cell_type": "code",
   "execution_count": 85,
   "source": [
    "import numpy as np\n",
    "import pandas as pd\n",
    "import torchvision.models as models\n",
    "import torchvision\n",
    "import torch.nn as nn\n",
    "import torch\n",
    "\n",
    "from data_loader import *"
   ],
   "outputs": [],
   "metadata": {}
  },
  {
   "cell_type": "code",
   "execution_count": 140,
   "source": [
    "def flatten(student, teacher):\n",
    "    '''\n",
    "    Function used to get BasicBlocks from ResNet class model\n",
    "    '''\n",
    "    student_layers = [student.layer1, student.layer2, student.layer3, student.layer4]\n",
    "    teacher_layers = [teacher.layer1, teacher.layer2, teacher.layer3, teacher.layer4]\n",
    "\n",
    "    student_blocks = []\n",
    "    teacher_blocks = []\n",
    "    \n",
    "    for i in range(len(student_layers)):\n",
    "        teacher_blocks += list(np.array_split(teacher_layers[i], len(student_layers[i]))) # divide teacher blocks into n list, where n is number of student blocks\n",
    "        student_blocks += [el for el in student_layers[i]]\n",
    "\n",
    "    return student_blocks, teacher_blocks"
   ],
   "outputs": [],
   "metadata": {}
  },
  {
   "cell_type": "code",
   "execution_count": 142,
   "source": [
    "student, teacher = flatten(resnet18, resnet34)"
   ],
   "outputs": [],
   "metadata": {}
  },
  {
   "cell_type": "code",
   "execution_count": 164,
   "source": [
    "def forward(x, student, teacher, p):\n",
    "    '''\n",
    "    Forward function for hybrid ResNet \n",
    "    '''\n",
    "    def _forward_blocks(x, student_blocks, teacher_blocks, p):\n",
    "        '''\n",
    "        Forward function containing only hybrid blocks predicitons\n",
    "        '''\n",
    "\n",
    "        len_teacher_blocks = len(teacher_blocks)\n",
    "        len_student_blocks = len(student_blocks)\n",
    "\n",
    "\n",
    "        assert len_teacher_blocks == len_student_blocks   # check if size of blocks is the same\n",
    "        \n",
    "        a_all = [np.random.binomial(1, p) for i in range(len_student_blocks)]   # hybrid block building schema \n",
    "\n",
    "        tmp_x = x\n",
    "        for i in range(len_student_blocks): # hybrid block\n",
    "            print(i)\n",
    "            if a_all[i] == 1: # student path\n",
    "                tmp_x = student_blocks[i].forward(tmp_x)\n",
    "\n",
    "            if a_all[i] == 0: # teacher path\n",
    "                for j in range(len(teacher_blocks[i])):\n",
    "                    tmp_x = teacher_blocks[i][j].forward(tmp_x)\n",
    "\n",
    "        return tmp_x, a_all\n",
    "    \n",
    "    student_blocks, teacher_blocks = flatten(student, teacher)\n",
    "\n",
    "    tmp_x = x     # forward pipeline\n",
    "    tmp_x = student.conv1(tmp_x)\n",
    "    tmp_x = student.bn1(tmp_x)\n",
    "    tmp_x = student.relu(tmp_x)\n",
    "    tmp_x = student.maxpool(tmp_x)\n",
    "    tmp_x, a_all = _forward_blocks(tmp_x, student_blocks, teacher_blocks, p)\n",
    "    tmp_x = student.avgpool(tmp_x)\n",
    "    tmp_x = torch.flatten(tmp_x, 1)\n",
    "    output = student.fc(tmp_x)\n",
    "\n",
    "    return output, a_all\n"
   ],
   "outputs": [],
   "metadata": {}
  },
  {
   "cell_type": "code",
   "execution_count": 138,
   "source": [
    "resnet34 = models.resnet34(pretrained=False)\n",
    "resnet18 = models.resnet18(pretrained=False)"
   ],
   "outputs": [],
   "metadata": {}
  },
  {
   "cell_type": "code",
   "execution_count": 165,
   "source": [
    "forward(images, resnet18, resnet34, 0.5)"
   ],
   "outputs": [
    {
     "output_type": "stream",
     "name": "stdout",
     "text": [
      "0\n",
      "1\n",
      "2\n",
      "3\n",
      "4\n",
      "5\n",
      "6\n",
      "7\n"
     ]
    },
    {
     "output_type": "execute_result",
     "data": {
      "text/plain": [
       "(tensor([[-0.3836,  0.5225,  0.8997,  ...,  0.3284, -0.3004, -1.0443],\n",
       "         [-0.4587,  0.0323,  0.6330,  ...,  0.6546, -0.2758, -0.7741],\n",
       "         [-0.4359,  0.1020,  0.5935,  ...,  0.4528, -0.3445, -0.7543],\n",
       "         ...,\n",
       "         [-0.2938,  0.1988,  0.6536,  ...,  0.2726, -0.2325, -0.7988],\n",
       "         [-0.3176, -0.1241,  0.4656,  ...,  0.4756, -0.4430, -0.8032],\n",
       "         [-0.4971, -0.0197,  0.4594,  ...,  0.5301, -0.3253, -0.7254]],\n",
       "        grad_fn=<AddmmBackward0>),\n",
       " [0, 0, 1, 1, 0, 0, 1, 0])"
      ]
     },
     "metadata": {},
     "execution_count": 165
    }
   ],
   "metadata": {}
  }
 ],
 "metadata": {
  "orig_nbformat": 4,
  "language_info": {
   "name": "python",
   "version": "3.8.2",
   "mimetype": "text/x-python",
   "codemirror_mode": {
    "name": "ipython",
    "version": 3
   },
   "pygments_lexer": "ipython3",
   "nbconvert_exporter": "python",
   "file_extension": ".py"
  },
  "kernelspec": {
   "name": "python3",
   "display_name": "Python 3.8.2 64-bit ('venv_transfer_learning')"
  },
  "interpreter": {
   "hash": "b6d6db1111a305e1aaf9d7e15b70b30335c8739b270604ea8c5bc8db337e15df"
  }
 },
 "nbformat": 4,
 "nbformat_minor": 2
}