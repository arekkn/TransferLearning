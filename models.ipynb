{
 "cells": [
  {
   "cell_type": "code",
   "execution_count": 86,
   "metadata": {},
   "outputs": [],
   "source": [
    "import random\n",
    "\n",
    "import numpy as np\n",
    "import pandas as pd\n",
    "import torchvision.models as models\n",
    "import torchvision\n",
    "import torch.nn as nn\n",
    "import torch\n",
    "\n",
    "from data_loader import *"
   ]
  },
  {
   "cell_type": "code",
   "execution_count": 87,
   "metadata": {},
   "outputs": [],
   "source": [
    "device = torch.device('cpu') # training on CPU"
   ]
  },
  {
   "cell_type": "code",
   "execution_count": 88,
   "metadata": {},
   "outputs": [],
   "source": [
    "# def train_test_split(images, labels, prc = 0.8):\n",
    "#     all_data = list(range(0, len(images)))\n",
    "#     train_data = random.sample(all_data, int(len(images) * 0.8))\n",
    "#     test_data = [el for el in all_data if el not in train_data]\n",
    "\n",
    "#     return images[train_data], labels[train_data], images[test_data], labels[test_data]"
   ]
  },
  {
   "cell_type": "code",
   "execution_count": 89,
   "metadata": {},
   "outputs": [],
   "source": [
    "def hybrid_blocks(student, teacher):\n",
    "    '''\n",
    "    Function used to get BasicBlocks from ResNet class model\n",
    "    '''\n",
    "    student_layers = [student.layer1, student.layer2, student.layer3, student.layer4]\n",
    "    teacher_layers = [teacher.layer1, teacher.layer2, teacher.layer3, teacher.layer4]\n",
    "\n",
    "    student_blocks = []\n",
    "    teacher_blocks = []\n",
    "    \n",
    "    for i in range(len(student_layers)):\n",
    "        teacher_blocks += list(np.array_split(teacher_layers[i], len(student_layers[i]))) # divide teacher blocks into n list, where n is number of student blocks\n",
    "        student_blocks += [el for el in student_layers[i]]\n",
    "\n",
    "    return student_blocks, teacher_blocks"
   ]
  },
  {
   "cell_type": "code",
   "execution_count": 90,
   "metadata": {},
   "outputs": [],
   "source": [
    "def forward(x, student, teacher, a_all):\n",
    "    '''\n",
    "    Forward function for hybrid ResNet \n",
    "    '''\n",
    "    def _forward_blocks(x, student_blocks, teacher_blocks, a_all):\n",
    "        '''\n",
    "        Forward function containing only hybrid blocks predicitons\n",
    "        '''\n",
    "        len_teacher_blocks = len(teacher_blocks)\n",
    "        len_student_blocks = len(student_blocks)\n",
    "        assert len_teacher_blocks == len_student_blocks   # check if size of blocks is the same\n",
    "        tmp_x = x\n",
    "        for i in range(len_student_blocks): # hybrid block\n",
    "            if a_all[i] == 1: # student path\n",
    "                tmp_x = student_blocks[i].forward(tmp_x)\n",
    "\n",
    "            if a_all[i] == 0: # teacher path\n",
    "                for j in range(len(teacher_blocks[i])):\n",
    "                    tmp_x = teacher_blocks[i][j].forward(tmp_x)\n",
    "\n",
    "        return tmp_x, a_all\n",
    "\n",
    "    student_blocks, teacher_blocks = hybrid_blocks(student, teacher)\n",
    "    \n",
    "    tmp_x = x     # forward pipeline\n",
    "    tmp_x = student.conv1(tmp_x)\n",
    "    tmp_x = student.bn1(tmp_x)\n",
    "    tmp_x = student.relu(tmp_x)\n",
    "    tmp_x = student.maxpool(tmp_x)\n",
    "    tmp_x, a_all = _forward_blocks(tmp_x, student_blocks, teacher_blocks, a_all)\n",
    "    tmp_x = student.avgpool(tmp_x)\n",
    "    tmp_x = torch.flatten(tmp_x, 1)\n",
    "    output = student.fc(tmp_x)\n",
    "\n",
    "    return output"
   ]
  },
  {
   "cell_type": "code",
   "execution_count": 103,
   "metadata": {
    "scrolled": true
   },
   "outputs": [],
   "source": [
    "def training(data, student, teacher, p, epochs = 6):\n",
    "    loss_function = nn.CrossEntropyLoss()\n",
    "    optimizer = optim.Adam(student.parameters(), lr=0.001)\n",
    "    train_loss = []\n",
    "    for e in range(epochs):\n",
    "        print(f\"Epoch no. {e}\")\n",
    "        score = 0\n",
    "        loss = 0\n",
    "        student_blocks, teacher_blocks = hybrid_blocks(student, teacher)\n",
    "        #a_all = [np.random.binomial(1, p) for i in range(len(student_blocks))]   # hybrid block building schema \n",
    "        a_all =[1,0,1,1,1,1,1,1]\n",
    "        for block, a in zip(student_blocks,a_all):\n",
    "            if a==0:\n",
    "                for param in block.parameters():\n",
    "                    param.requires_grad=False\n",
    "            else:\n",
    "                for param in block.parameters():\n",
    "                    param.requires_grad=True      \n",
    "        for image, label in data:\n",
    "            student_blocks, teacher_blocks = hybrid_blocks(student, teacher)\n",
    "            image = image.to(device)\n",
    "            label = label.to(device)\n",
    "            optimizer.zero_grad()\n",
    "            y_pred = forward(image, student, teacher, a_all)\n",
    "            loss = loss_function(y_pred, label)         \n",
    "            loss.backward() \n",
    "            optimizer.step()\n",
    "            val, index_ = torch.max(y_pred, axis=1)\n",
    "            score += torch.sum(index_ == label.data).item()\n",
    "            loss += loss.item()\n",
    "            \n",
    "        epoch_score = score / len(data)\n",
    "        epoch_loss = loss / len(data)\n",
    "        train_loss.append(epoch_loss)\n",
    "        print(\"Training loss: {}, accuracy: {}\".format(epoch_loss, epoch_score))"
   ]
  },
  {
   "cell_type": "code",
   "execution_count": 104,
   "metadata": {},
   "outputs": [],
   "source": [
    "resnet34 = models.resnet34(pretrained=True)\n",
    "resnet18 = models.resnet18(pretrained=False)"
   ]
  },
  {
   "cell_type": "code",
   "execution_count": null,
   "metadata": {},
   "outputs": [],
   "source": [
    "training(trainloader, resnet18, resnet34, 0.8)"
   ]
  },
  {
   "cell_type": "code",
   "execution_count": null,
   "metadata": {},
   "outputs": [],
   "source": [
    "#list(resnet18.children())[4]\n",
    "#print(list(student_blocks[0].parameters())[0])"
   ]
  },
  {
   "cell_type": "code",
   "execution_count": null,
   "metadata": {},
   "outputs": [],
   "source": [
    "# i=0\n",
    "# for child in student.children():\n",
    "#     if i==0:\n",
    "#         i+=1\n",
    "#         continue\n",
    "#     if a_all[i-1]:\n",
    "#                 child.requeirs_grad=False\n",
    "#             else:\n",
    "#                 child.requeirs_grad=True\n",
    "#             i+=1"
   ]
  },
  {
   "cell_type": "code",
   "execution_count": null,
   "metadata": {
    "scrolled": true
   },
   "outputs": [],
   "source": [
    "# names_34_p=[]\n",
    "# params_34_p=[]\n",
    "# print(\"resnet34\")   \n",
    "# for name, param in resnet34.named_parameters():\n",
    "#     print(name)\n",
    "#     names_34_p.append(name)\n",
    "#     print(param)\n",
    "#     params_34_p.append(param)\n",
    "# print(len(names_34_p))\n",
    "# print(len(params_34_p))\n",
    "\n",
    "# names_18_p=[]\n",
    "# params_18_p=[]\n",
    "# print(\"\\nresnet18\")    \n",
    "# for name, param in resnet18.named_parameters():\n",
    "#     print(name)\n",
    "#     names_18_p.append(name)\n",
    "#     #print(param)\n",
    "#     params_18_p.append(param)\n",
    "# print(len(names_18_p))\n",
    "# print(len(params_18_p))"
   ]
  },
  {
   "cell_type": "code",
   "execution_count": null,
   "metadata": {},
   "outputs": [],
   "source": [
    "#jak sprawdzić czy zadziałało?\n",
    "# powinno być \n",
    "# teacher[0] niezmieniony\n",
    "#rint(names_34_p[3])\n",
    "#rint(params_34_p[3])\n",
    "# student[1] zmieniony \n",
    "#rint(names_18_p[12])\n",
    "#rint(params_18_p[12])\n",
    "# student_blocks, teacher_blocks = hybrid_blocks(resnet18, resnet34)\n",
    "# print(\"\\nteacher_blocks[0]\")\n",
    "# print(list(student_blocks[0].parameters())[2])\n",
    "# print(\"\\n\")\n",
    "# print(\"\\nteacher_blocks[1\")\n",
    "# print(teacher_blocks[1])\n",
    "# print(\"\\n\")\n",
    "# print(\"\\nteacher_blocks[2\")\n",
    "# print(teacher_blocks[2])\n",
    "# print(\"\\nteacher_blocks[3)\")\n",
    "# print(teacher_blocks[3])\n",
    "# print(\"\\nteacher_blocks[4\")\n",
    "# print(teacher_blocks[4])\n",
    "# print(\"\\nresnet18\")\n",
    "# print(\"\\nstudent_blocks[0]\")\n",
    "# student_blocks[0]\n",
    "# print(\"\\nstudent_blocks[1\")\n",
    "# print(student_blocks[1])\n",
    "# print(\"\\nstudent_blocks[2\")\n",
    "# print(student_blocks[2])\n",
    "# print(\"\\nstudent_blocks[3)\")\n",
    "# print(student_blocks[3])\n",
    "# print(\"\\nstudent_blocks[4\")\n",
    "# print(student_blocks[4])"
   ]
  },
  {
   "cell_type": "code",
   "execution_count": null,
   "metadata": {},
   "outputs": [],
   "source": [
    "#student_blocks, teacher_blocks = hybrid_blocks(models.resnet18(pretrained=False), models.resnet34(pretrained=False))\n",
    "#a_all = [np.random.binomial(1, 0.8) for i in range(len(student_blocks))]\n",
    "#a_all\n",
    "#student_blocks[1]"
   ]
  },
  {
   "cell_type": "code",
   "execution_count": null,
   "metadata": {},
   "outputs": [],
   "source": [
    "#teacher_blocks[2]\n",
    "#for p in resnet34.parameters():\n",
    "#    print(p)"
   ]
  },
  {
   "cell_type": "code",
   "execution_count": 105,
   "metadata": {
    "scrolled": true
   },
   "outputs": [
    {
     "name": "stdout",
     "output_type": "stream",
     "text": [
      "\n",
      "Training\n",
      "Epoch no. 0\n",
      "Training loss: 0.005277065094560385, accuracy: 57.25609756097561\n",
      "Epoch no. 1\n",
      "Training loss: 0.0017899281810969114, accuracy: 60.329268292682926\n",
      "Epoch no. 2\n",
      "Training loss: 0.0010655565420165658, accuracy: 60.86585365853659\n",
      "Epoch no. 3\n",
      "Training loss: 0.0016414590645581484, accuracy: 61.25609756097561\n",
      "Epoch no. 4\n",
      "Training loss: 0.0033835263457149267, accuracy: 61.353658536585364\n",
      "Epoch no. 5\n",
      "Training loss: 0.0009427148615941405, accuracy: 61.46341463414634\n"
     ]
    }
   ],
   "source": [
    "# names_34_p=[]\n",
    "# params_34_p=[]\n",
    "# print(\"resnet34\")   \n",
    "# for name, param in resnet34.named_parameters():\n",
    "#     names_34_p.append(name)\n",
    "#     params_34_p.append(param)\n",
    "\n",
    "\n",
    "# names_18_p=[]\n",
    "# params_18_p=[]\n",
    "# print(\"\\nresnet18\")    \n",
    "# for name, param in resnet18.named_parameters():\n",
    "#     names_18_p.append(name)\n",
    "#     params_18_p.append(param)\n",
    "#-------------------------------------------------\n",
    "print(\"\\nTraining\") \n",
    "training(trainloader, resnet18, resnet34, 0.8)\n",
    "#---------------------------------------------------\n",
    "# names_34_f=[]\n",
    "# params_34_f=[]\n",
    "# print(\"resnet34\")   \n",
    "# for name, param in resnet34.named_parameters():\n",
    "#     names_34_f.append(name)\n",
    "#     params_34_f.append(param)\n",
    "\n",
    "\n",
    "# names_18_f=[]\n",
    "# params_18_f=[]\n",
    "# print(\"\\nresnet18\")    \n",
    "# for name, param in resnet18.named_parameters():\n",
    "#     names_18_f.append(name)\n",
    "#     params_18_f.append(param)\n",
    "\n",
    "# print(\"resnet34\")     \n",
    "# print(names_34_p[3])\n",
    "# print(params_34_p[3])\n",
    "# print(names_34_f[3])\n",
    "# print(params_34_f[3])\n",
    "# print(\"resnet34\") \n",
    "# torch.equal(params_34_p[3],params_34_f[3])\n",
    "# print(\"\\nresnet18\")  \n",
    "# print(names_18_p[12])\n",
    "# print(params_18_p[12])\n",
    "# print(names_18_f[12])\n",
    "# print(params_18_f[12])\n",
    "# print(\"\\nresnet18\")  \n",
    "# torch.equal(params_18_p[12],params_18_f[12])"
   ]
  },
  {
   "cell_type": "code",
   "execution_count": null,
   "metadata": {
    "scrolled": false
   },
   "outputs": [],
   "source": [
    "#torch.equal(params_34_p[3],params_34_f[3])\n",
    "# print(\"\\nresnet34\") \n",
    "# for i in range(len(params_34_p)):\n",
    "#     print(torch.equal(params_34_p[i],params_34_f[i]))\n",
    "# print(\"\\nresnet18\") \n",
    "# for i in range(len(params_18_p)):\n",
    "#     print(torch.equal(params_18_p[i],params_18_f[i]))\n",
    "#torch.equal(params_18_p[12],params_18_f[12])"
   ]
  },
  {
   "cell_type": "code",
   "execution_count": null,
   "metadata": {},
   "outputs": [],
   "source": [
    "# for child in model_ft.children():\n",
    "# i=0\n",
    "#         for child in student.children():\n",
    "#             if i=0:\n",
    "#                 i+=1\n",
    "#                 continue\n",
    "#             if !a_all[i-1]:\n",
    "#                 child.requeirs_grad=False\n",
    "    "
   ]
  },
  {
   "cell_type": "markdown",
   "metadata": {},
   "source": [
    "chciałem sprawdzić czy funkcja trenowania zmienia resnet18 i nie zmienia resnet34 tak jakbyśmy chcieli,\n",
    "zrobiłem test polegający na:\n",
    "* zapisaniu parametrów modeli, \n",
    "* wywołaniu funkcji trenowania,\n",
    "* zapisaniu parametrów (wytrenowanych?) modeli,\n",
    "* porównanie parametrów.\\\n",
    "Okazało się że parametry są takie same, więc albo funkcja trenująca nie trenuje modeli albo ja zrobiłem błąd gdzieś.\\\n",
    "Nie wiedząc co z tym zrobić postanowiłem zająć się czymś innym czyli "
   ]
  }
 ],
 "metadata": {
  "kernelspec": {
   "display_name": "Python 3",
   "language": "python",
   "name": "python3"
  }
 },
 "nbformat": 4,
 "nbformat_minor": 4
}
