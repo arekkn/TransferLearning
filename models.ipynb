{
 "cells": [
  {
   "cell_type": "code",
   "execution_count": 86,
   "source": [
    "import random\n",
    "\n",
    "import numpy as np\n",
    "import pandas as pd\n",
    "import torchvision.models as models\n",
    "import torchvision\n",
    "import torch.nn as nn\n",
    "import torch\n",
    "\n",
    "from data_loader import *"
   ],
   "outputs": [],
   "metadata": {}
  },
  {
   "cell_type": "code",
   "execution_count": 91,
   "source": [
    "device = torch.device('cpu') # training on CPU"
   ],
   "outputs": [],
   "metadata": {}
  },
  {
   "cell_type": "code",
   "execution_count": 45,
   "source": [
    "def train_test_split(images, labels, prc = 0.8):\n",
    "    all_data = list(range(0, len(images)))\n",
    "    train_data = random.sample(all_data, int(len(images) * 0.8))\n",
    "    test_data = [el for el in all_data if el not in train_data]\n",
    "\n",
    "    return images[train_data], labels[train_data], images[test_data], labels[test_data]"
   ],
   "outputs": [],
   "metadata": {}
  },
  {
   "cell_type": "code",
   "execution_count": 2,
   "source": [
    "def hybrid_blocks(student, teacher):\n",
    "    '''\n",
    "    Function used to get BasicBlocks from ResNet class model\n",
    "    '''\n",
    "    student_layers = [student.layer1, student.layer2, student.layer3, student.layer4]\n",
    "    teacher_layers = [teacher.layer1, teacher.layer2, teacher.layer3, teacher.layer4]\n",
    "\n",
    "    student_blocks = []\n",
    "    teacher_blocks = []\n",
    "    \n",
    "    for i in range(len(student_layers)):\n",
    "        teacher_blocks += list(np.array_split(teacher_layers[i], len(student_layers[i]))) # divide teacher blocks into n list, where n is number of student blocks\n",
    "        student_blocks += [el for el in student_layers[i]]\n",
    "\n",
    "    return student_blocks, teacher_blocks"
   ],
   "outputs": [],
   "metadata": {}
  },
  {
   "cell_type": "code",
   "execution_count": 49,
   "source": [
    "def forward(x, student, teacher, a_all):\n",
    "    '''\n",
    "    Forward function for hybrid ResNet \n",
    "    '''\n",
    "    def _forward_blocks(x, student_blocks, teacher_blocks, a_all):\n",
    "        '''\n",
    "        Forward function containing only hybrid blocks predicitons\n",
    "        '''\n",
    "\n",
    "        len_teacher_blocks = len(teacher_blocks)\n",
    "        len_student_blocks = len(student_blocks)\n",
    "\n",
    "\n",
    "        assert len_teacher_blocks == len_student_blocks   # check if size of blocks is the same\n",
    "        \n",
    "        tmp_x = x\n",
    "        for i in range(len_student_blocks): # hybrid block\n",
    "            if a_all[i] == 1: # student path\n",
    "                tmp_x = student_blocks[i].forward(tmp_x)\n",
    "\n",
    "            if a_all[i] == 0: # teacher path\n",
    "                for j in range(len(teacher_blocks[i])):\n",
    "                    tmp_x = teacher_blocks[i][j].forward(tmp_x)\n",
    "\n",
    "        return tmp_x, a_all\n",
    "\n",
    "    student_blocks, teacher_blocks = hybrid_blocks(student, teacher)\n",
    "    \n",
    "    tmp_x = x     # forward pipeline\n",
    "    tmp_x = student.conv1(tmp_x)\n",
    "    tmp_x = student.bn1(tmp_x)\n",
    "    tmp_x = student.relu(tmp_x)\n",
    "    tmp_x = student.maxpool(tmp_x)\n",
    "    tmp_x, a_all = _forward_blocks(tmp_x, student_blocks, teacher_blocks, a_all)\n",
    "    tmp_x = student.avgpool(tmp_x)\n",
    "    tmp_x = torch.flatten(tmp_x, 1)\n",
    "    output = student.fc(tmp_x)\n",
    "\n",
    "    return output\n"
   ],
   "outputs": [],
   "metadata": {}
  },
  {
   "cell_type": "code",
   "execution_count": 92,
   "source": [
    "def training(data, student, teacher, p, epochs = 1):\n",
    "    \n",
    "    loss_function = nn.CrossEntropyLoss()\n",
    "    optimizer = optim.Adam(student.parameters(), lr=0.001)\n",
    "\n",
    "    train_loss = []\n",
    "    \n",
    "    for e in range(epochs):\n",
    "        \n",
    "        print(f\"Epoch no. {e}\")\n",
    "        score = 0\n",
    "        loss = 0\n",
    "        \n",
    "        student_blocks, teacher_blocks = hybrid_blocks(student, teacher)\n",
    "\n",
    "        a_all = [np.random.binomial(1, p) for i in range(len(student_blocks))]   # hybrid block building schema \n",
    "\n",
    "        for image, label in data:\n",
    "            image = image.to(device)\n",
    "            label = label.to(device)\n",
    "            optimizer.zero_grad()\n",
    "            y_pred = forward(image, student, teacher, a_all)\n",
    "            loss = loss_function(y_pred, label)         \n",
    "            loss.backward() \n",
    "            optimizer.step()\n",
    "            val, index_ = torch.max(y_pred, axis=1)\n",
    "            score += torch.sum(index_ == label.data).item()\n",
    "            loss += loss.item()\n",
    "\n",
    "        epoch_score = score / len(data)\n",
    "        epoch_loss = loss / len(data)\n",
    "        train_loss.append(epoch_loss)\n",
    "        print(\"Training loss: {}, accuracy: {}\".format(epoch_loss, epoch_score))\n",
    "            "
   ],
   "outputs": [],
   "metadata": {}
  },
  {
   "cell_type": "code",
   "execution_count": 85,
   "source": [
    "resnet34 = models.resnet34(pretrained=False)\n",
    "resnet18 = models.resnet18(pretrained=False)"
   ],
   "outputs": [],
   "metadata": {}
  },
  {
   "cell_type": "code",
   "execution_count": 93,
   "source": [
    "training(trainloader, resnet18, resnet34, 0.8)"
   ],
   "outputs": [
    {
     "output_type": "stream",
     "name": "stdout",
     "text": [
      "Epoch no. 0\n"
     ]
    },
    {
     "output_type": "error",
     "ename": "KeyboardInterrupt",
     "evalue": "",
     "traceback": [
      "\u001b[0;31m---------------------------------------------------------------------------\u001b[0m",
      "\u001b[0;31mKeyboardInterrupt\u001b[0m                         Traceback (most recent call last)",
      "Input \u001b[0;32mIn [93]\u001b[0m, in \u001b[0;36m<cell line: 1>\u001b[0;34m()\u001b[0m\n\u001b[0;32m----> 1\u001b[0m \u001b[43mtraining\u001b[49m\u001b[43m(\u001b[49m\u001b[43mtrainloader\u001b[49m\u001b[43m,\u001b[49m\u001b[43m \u001b[49m\u001b[43mresnet18\u001b[49m\u001b[43m,\u001b[49m\u001b[43m \u001b[49m\u001b[43mresnet34\u001b[49m\u001b[43m,\u001b[49m\u001b[43m \u001b[49m\u001b[38;5;241;43m0.8\u001b[39;49m\u001b[43m)\u001b[49m\n",
      "Input \u001b[0;32mIn [92]\u001b[0m, in \u001b[0;36mtraining\u001b[0;34m(data, student, teacher, p, epochs)\u001b[0m\n\u001b[1;32m     20\u001b[0m label \u001b[38;5;241m=\u001b[39m label\u001b[38;5;241m.\u001b[39mto(device)\n\u001b[1;32m     21\u001b[0m optimizer\u001b[38;5;241m.\u001b[39mzero_grad()\n\u001b[0;32m---> 22\u001b[0m y_pred \u001b[38;5;241m=\u001b[39m \u001b[43mforward\u001b[49m\u001b[43m(\u001b[49m\u001b[43mimage\u001b[49m\u001b[43m,\u001b[49m\u001b[43m \u001b[49m\u001b[43mstudent\u001b[49m\u001b[43m,\u001b[49m\u001b[43m \u001b[49m\u001b[43mteacher\u001b[49m\u001b[43m,\u001b[49m\u001b[43m \u001b[49m\u001b[43ma_all\u001b[49m\u001b[43m)\u001b[49m\n\u001b[1;32m     23\u001b[0m loss \u001b[38;5;241m=\u001b[39m loss_function(y_pred, label)         \n\u001b[1;32m     24\u001b[0m loss\u001b[38;5;241m.\u001b[39mbackward() \n",
      "Input \u001b[0;32mIn [49]\u001b[0m, in \u001b[0;36mforward\u001b[0;34m(x, student, teacher, a_all)\u001b[0m\n\u001b[1;32m     32\u001b[0m tmp_x \u001b[38;5;241m=\u001b[39m student\u001b[38;5;241m.\u001b[39mrelu(tmp_x)\n\u001b[1;32m     33\u001b[0m tmp_x \u001b[38;5;241m=\u001b[39m student\u001b[38;5;241m.\u001b[39mmaxpool(tmp_x)\n\u001b[0;32m---> 34\u001b[0m tmp_x, a_all \u001b[38;5;241m=\u001b[39m \u001b[43m_forward_blocks\u001b[49m\u001b[43m(\u001b[49m\u001b[43mtmp_x\u001b[49m\u001b[43m,\u001b[49m\u001b[43m \u001b[49m\u001b[43mstudent_blocks\u001b[49m\u001b[43m,\u001b[49m\u001b[43m \u001b[49m\u001b[43mteacher_blocks\u001b[49m\u001b[43m,\u001b[49m\u001b[43m \u001b[49m\u001b[43ma_all\u001b[49m\u001b[43m)\u001b[49m\n\u001b[1;32m     35\u001b[0m tmp_x \u001b[38;5;241m=\u001b[39m student\u001b[38;5;241m.\u001b[39mavgpool(tmp_x)\n\u001b[1;32m     36\u001b[0m tmp_x \u001b[38;5;241m=\u001b[39m torch\u001b[38;5;241m.\u001b[39mflatten(tmp_x, \u001b[38;5;241m1\u001b[39m)\n",
      "Input \u001b[0;32mIn [49]\u001b[0m, in \u001b[0;36mforward.<locals>._forward_blocks\u001b[0;34m(x, student_blocks, teacher_blocks, a_all)\u001b[0m\n\u001b[1;32m     21\u001b[0m     \u001b[38;5;28;01mif\u001b[39;00m a_all[i] \u001b[38;5;241m==\u001b[39m \u001b[38;5;241m0\u001b[39m: \u001b[38;5;66;03m# teacher path\u001b[39;00m\n\u001b[1;32m     22\u001b[0m         \u001b[38;5;28;01mfor\u001b[39;00m j \u001b[38;5;129;01min\u001b[39;00m \u001b[38;5;28mrange\u001b[39m(\u001b[38;5;28mlen\u001b[39m(teacher_blocks[i])):\n\u001b[0;32m---> 23\u001b[0m             tmp_x \u001b[38;5;241m=\u001b[39m \u001b[43mteacher_blocks\u001b[49m\u001b[43m[\u001b[49m\u001b[43mi\u001b[49m\u001b[43m]\u001b[49m\u001b[43m[\u001b[49m\u001b[43mj\u001b[49m\u001b[43m]\u001b[49m\u001b[38;5;241;43m.\u001b[39;49m\u001b[43mforward\u001b[49m\u001b[43m(\u001b[49m\u001b[43mtmp_x\u001b[49m\u001b[43m)\u001b[49m\n\u001b[1;32m     25\u001b[0m \u001b[38;5;28;01mreturn\u001b[39;00m tmp_x, a_all\n",
      "File \u001b[0;32m~/Documents/studia/venv_transfer_learning/lib/python3.8/site-packages/torchvision/models/resnet.py:94\u001b[0m, in \u001b[0;36mBasicBlock.forward\u001b[0;34m(self, x)\u001b[0m\n\u001b[1;32m     91\u001b[0m out \u001b[38;5;241m=\u001b[39m \u001b[38;5;28mself\u001b[39m\u001b[38;5;241m.\u001b[39mbn1(out)\n\u001b[1;32m     92\u001b[0m out \u001b[38;5;241m=\u001b[39m \u001b[38;5;28mself\u001b[39m\u001b[38;5;241m.\u001b[39mrelu(out)\n\u001b[0;32m---> 94\u001b[0m out \u001b[38;5;241m=\u001b[39m \u001b[38;5;28;43mself\u001b[39;49m\u001b[38;5;241;43m.\u001b[39;49m\u001b[43mconv2\u001b[49m\u001b[43m(\u001b[49m\u001b[43mout\u001b[49m\u001b[43m)\u001b[49m\n\u001b[1;32m     95\u001b[0m out \u001b[38;5;241m=\u001b[39m \u001b[38;5;28mself\u001b[39m\u001b[38;5;241m.\u001b[39mbn2(out)\n\u001b[1;32m     97\u001b[0m \u001b[38;5;28;01mif\u001b[39;00m \u001b[38;5;28mself\u001b[39m\u001b[38;5;241m.\u001b[39mdownsample \u001b[38;5;129;01mis\u001b[39;00m \u001b[38;5;129;01mnot\u001b[39;00m \u001b[38;5;28;01mNone\u001b[39;00m:\n",
      "File \u001b[0;32m~/Documents/studia/venv_transfer_learning/lib/python3.8/site-packages/torch/nn/modules/module.py:1110\u001b[0m, in \u001b[0;36mModule._call_impl\u001b[0;34m(self, *input, **kwargs)\u001b[0m\n\u001b[1;32m   1106\u001b[0m \u001b[38;5;66;03m# If we don't have any hooks, we want to skip the rest of the logic in\u001b[39;00m\n\u001b[1;32m   1107\u001b[0m \u001b[38;5;66;03m# this function, and just call forward.\u001b[39;00m\n\u001b[1;32m   1108\u001b[0m \u001b[38;5;28;01mif\u001b[39;00m \u001b[38;5;129;01mnot\u001b[39;00m (\u001b[38;5;28mself\u001b[39m\u001b[38;5;241m.\u001b[39m_backward_hooks \u001b[38;5;129;01mor\u001b[39;00m \u001b[38;5;28mself\u001b[39m\u001b[38;5;241m.\u001b[39m_forward_hooks \u001b[38;5;129;01mor\u001b[39;00m \u001b[38;5;28mself\u001b[39m\u001b[38;5;241m.\u001b[39m_forward_pre_hooks \u001b[38;5;129;01mor\u001b[39;00m _global_backward_hooks\n\u001b[1;32m   1109\u001b[0m         \u001b[38;5;129;01mor\u001b[39;00m _global_forward_hooks \u001b[38;5;129;01mor\u001b[39;00m _global_forward_pre_hooks):\n\u001b[0;32m-> 1110\u001b[0m     \u001b[38;5;28;01mreturn\u001b[39;00m \u001b[43mforward_call\u001b[49m\u001b[43m(\u001b[49m\u001b[38;5;241;43m*\u001b[39;49m\u001b[38;5;28;43minput\u001b[39;49m\u001b[43m,\u001b[49m\u001b[43m \u001b[49m\u001b[38;5;241;43m*\u001b[39;49m\u001b[38;5;241;43m*\u001b[39;49m\u001b[43mkwargs\u001b[49m\u001b[43m)\u001b[49m\n\u001b[1;32m   1111\u001b[0m \u001b[38;5;66;03m# Do not call functions when jit is used\u001b[39;00m\n\u001b[1;32m   1112\u001b[0m full_backward_hooks, non_full_backward_hooks \u001b[38;5;241m=\u001b[39m [], []\n",
      "File \u001b[0;32m~/Documents/studia/venv_transfer_learning/lib/python3.8/site-packages/torch/nn/modules/conv.py:447\u001b[0m, in \u001b[0;36mConv2d.forward\u001b[0;34m(self, input)\u001b[0m\n\u001b[1;32m    446\u001b[0m \u001b[38;5;28;01mdef\u001b[39;00m \u001b[38;5;21mforward\u001b[39m(\u001b[38;5;28mself\u001b[39m, \u001b[38;5;28minput\u001b[39m: Tensor) \u001b[38;5;241m-\u001b[39m\u001b[38;5;241m>\u001b[39m Tensor:\n\u001b[0;32m--> 447\u001b[0m     \u001b[38;5;28;01mreturn\u001b[39;00m \u001b[38;5;28;43mself\u001b[39;49m\u001b[38;5;241;43m.\u001b[39;49m\u001b[43m_conv_forward\u001b[49m\u001b[43m(\u001b[49m\u001b[38;5;28;43minput\u001b[39;49m\u001b[43m,\u001b[49m\u001b[43m \u001b[49m\u001b[38;5;28;43mself\u001b[39;49m\u001b[38;5;241;43m.\u001b[39;49m\u001b[43mweight\u001b[49m\u001b[43m,\u001b[49m\u001b[43m \u001b[49m\u001b[38;5;28;43mself\u001b[39;49m\u001b[38;5;241;43m.\u001b[39;49m\u001b[43mbias\u001b[49m\u001b[43m)\u001b[49m\n",
      "File \u001b[0;32m~/Documents/studia/venv_transfer_learning/lib/python3.8/site-packages/torch/nn/modules/conv.py:443\u001b[0m, in \u001b[0;36mConv2d._conv_forward\u001b[0;34m(self, input, weight, bias)\u001b[0m\n\u001b[1;32m    439\u001b[0m \u001b[38;5;28;01mif\u001b[39;00m \u001b[38;5;28mself\u001b[39m\u001b[38;5;241m.\u001b[39mpadding_mode \u001b[38;5;241m!=\u001b[39m \u001b[38;5;124m'\u001b[39m\u001b[38;5;124mzeros\u001b[39m\u001b[38;5;124m'\u001b[39m:\n\u001b[1;32m    440\u001b[0m     \u001b[38;5;28;01mreturn\u001b[39;00m F\u001b[38;5;241m.\u001b[39mconv2d(F\u001b[38;5;241m.\u001b[39mpad(\u001b[38;5;28minput\u001b[39m, \u001b[38;5;28mself\u001b[39m\u001b[38;5;241m.\u001b[39m_reversed_padding_repeated_twice, mode\u001b[38;5;241m=\u001b[39m\u001b[38;5;28mself\u001b[39m\u001b[38;5;241m.\u001b[39mpadding_mode),\n\u001b[1;32m    441\u001b[0m                     weight, bias, \u001b[38;5;28mself\u001b[39m\u001b[38;5;241m.\u001b[39mstride,\n\u001b[1;32m    442\u001b[0m                     _pair(\u001b[38;5;241m0\u001b[39m), \u001b[38;5;28mself\u001b[39m\u001b[38;5;241m.\u001b[39mdilation, \u001b[38;5;28mself\u001b[39m\u001b[38;5;241m.\u001b[39mgroups)\n\u001b[0;32m--> 443\u001b[0m \u001b[38;5;28;01mreturn\u001b[39;00m \u001b[43mF\u001b[49m\u001b[38;5;241;43m.\u001b[39;49m\u001b[43mconv2d\u001b[49m\u001b[43m(\u001b[49m\u001b[38;5;28;43minput\u001b[39;49m\u001b[43m,\u001b[49m\u001b[43m \u001b[49m\u001b[43mweight\u001b[49m\u001b[43m,\u001b[49m\u001b[43m \u001b[49m\u001b[43mbias\u001b[49m\u001b[43m,\u001b[49m\u001b[43m \u001b[49m\u001b[38;5;28;43mself\u001b[39;49m\u001b[38;5;241;43m.\u001b[39;49m\u001b[43mstride\u001b[49m\u001b[43m,\u001b[49m\n\u001b[1;32m    444\u001b[0m \u001b[43m                \u001b[49m\u001b[38;5;28;43mself\u001b[39;49m\u001b[38;5;241;43m.\u001b[39;49m\u001b[43mpadding\u001b[49m\u001b[43m,\u001b[49m\u001b[43m \u001b[49m\u001b[38;5;28;43mself\u001b[39;49m\u001b[38;5;241;43m.\u001b[39;49m\u001b[43mdilation\u001b[49m\u001b[43m,\u001b[49m\u001b[43m \u001b[49m\u001b[38;5;28;43mself\u001b[39;49m\u001b[38;5;241;43m.\u001b[39;49m\u001b[43mgroups\u001b[49m\u001b[43m)\u001b[49m\n",
      "\u001b[0;31mKeyboardInterrupt\u001b[0m: "
     ]
    }
   ],
   "metadata": {}
  }
 ],
 "metadata": {
  "orig_nbformat": 4,
  "language_info": {
   "name": "python",
   "version": "3.8.2",
   "mimetype": "text/x-python",
   "codemirror_mode": {
    "name": "ipython",
    "version": 3
   },
   "pygments_lexer": "ipython3",
   "nbconvert_exporter": "python",
   "file_extension": ".py"
  },
  "kernelspec": {
   "name": "python3",
   "display_name": "Python 3.8.2 64-bit ('venv_transfer_learning': venv)"
  },
  "interpreter": {
   "hash": "b6d6db1111a305e1aaf9d7e15b70b30335c8739b270604ea8c5bc8db337e15df"
  }
 },
 "nbformat": 4,
 "nbformat_minor": 2
}