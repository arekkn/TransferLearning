{
 "cells": [
  {
   "cell_type": "code",
   "execution_count": 1,
   "metadata": {},
   "outputs": [],
   "source": [
    "import random\n",
    "\n",
    "import numpy as np\n",
    "import pandas as pd\n",
    "import torchvision.models as models\n",
    "import torchvision\n",
    "import torch.nn as nn\n",
    "import torch\n",
    "import tensorflow as tf\n",
    "from torch.optim.lr_scheduler import MultiStepLR\n",
    "\n",
    "from data_loader import *"
   ]
  },
  {
   "cell_type": "code",
   "execution_count": 2,
   "metadata": {},
   "outputs": [],
   "source": [
    "device = torch.device('cuda:0' if torch.cuda.is_available() else 'cpu')"
   ]
  },
  {
   "cell_type": "code",
   "execution_count": 3,
   "metadata": {},
   "outputs": [],
   "source": [
    "def hybrid_blocks(student, teacher):\n",
    "    '''\n",
    "    Function used to get BasicBlocks from ResNet class model\n",
    "    '''\n",
    "    student_layers = [student.layer1, student.layer2, student.layer3, student.layer4]\n",
    "    teacher_layers = [teacher.layer1, teacher.layer2, teacher.layer3, teacher.layer4]\n",
    "\n",
    "    student_blocks = []\n",
    "    teacher_blocks = []\n",
    "    \n",
    "    for i in range(len(student_layers)):\n",
    "        teacher_blocks += list(np.array_split(teacher_layers[i], len(student_layers[i]))) # divide teacher blocks into n list, where n is number of student blocks\n",
    "        student_blocks += [el for el in student_layers[i]]\n",
    "\n",
    "    return student_blocks, teacher_blocks"
   ]
  },
  {
   "cell_type": "code",
   "execution_count": 4,
   "metadata": {},
   "outputs": [],
   "source": [
    "def forward(x, student, teacher, a_all):\n",
    "    '''\n",
    "    Forward function for hybrid ResNet \n",
    "    '''\n",
    "    def _forward_blocks(x, student_blocks, teacher_blocks, a_all):\n",
    "        '''\n",
    "        Forward function containing only hybrid blocks predicitons\n",
    "        '''\n",
    "        len_teacher_blocks = len(teacher_blocks)\n",
    "        len_student_blocks = len(student_blocks)\n",
    "        assert len_teacher_blocks == len_student_blocks   # check if size of blocks is the same\n",
    "        tmp_x = x\n",
    "        for i in range(len_student_blocks): # hybrid block\n",
    "            if a_all[i] == 1: # student path\n",
    "                tmp_x = student_blocks[i].forward(tmp_x)\n",
    "\n",
    "            if a_all[i] == 0: # teacher path\n",
    "                for j in range(len(teacher_blocks[i])):\n",
    "                    tmp_x = teacher_blocks[i][j].forward(tmp_x)\n",
    "\n",
    "        return tmp_x, a_all\n",
    "\n",
    "    student_blocks, teacher_blocks = hybrid_blocks(student, teacher)\n",
    "    \n",
    "    softmax = nn.Softmax(dim=1)\n",
    "    \n",
    "    tmp_x = x     # forward pipeline\n",
    "    tmp_x = student.conv1(tmp_x)\n",
    "    tmp_x = student.bn1(tmp_x)\n",
    "    tmp_x = student.relu(tmp_x)\n",
    "    tmp_x = student.maxpool(tmp_x)\n",
    "    tmp_x, a_all = _forward_blocks(tmp_x, student_blocks, teacher_blocks, a_all)\n",
    "    tmp_x = student.avgpool(tmp_x)\n",
    "    tmp_x = torch.flatten(tmp_x, 1)\n",
    "    tmp_x = student.fc(tmp_x)\n",
    "    output = softmax(tmp_x)\n",
    "    \n",
    "    return output"
   ]
  },
  {
   "cell_type": "code",
   "execution_count": 5,
   "metadata": {
    "scrolled": true
   },
   "outputs": [],
   "source": [
    "def training(data, student, teacher, p, epochs = 200,intervals=200):\n",
    "    # dodałem parametr intervals:\n",
    "    # jeśli intervals = epochs     mamy Uniform schedule\n",
    "    # jesli intervals = 1          mamy Linear growth schedule\n",
    "    # jesli 1 < intervals < epochs mamy Review schedule, gdzie intervals oznacza liczbę \"powtórek\"\n",
    "    loss_function = nn.CrossEntropyLoss()\n",
    "    #optimizer = optim.Adam(student.parameters(), lr=0.001)\n",
    "    #optimizer(SGD) i modyfikacja learning rate(MultiStepLR) z artykułu\n",
    "    optimizer = optim.SGD(student.parameters(), lr=0.1, weight_decay=0.0001, momentum=0.9)\n",
    "    train_loss = []\n",
    "    train_score = []\n",
    "    x=np.linspace(p, 1, int(epochs/intervals))\n",
    "    print(f\"x = {x}\")\n",
    "    p_all=np.tile(x,intervals)\n",
    "    print(f\"p_all = {p_all}\")\n",
    "    for e in range(epochs):\n",
    "        print(f\"\\nEpoch no. {e}\")\n",
    "        score = 0\n",
    "        loss = 0\n",
    "        student_blocks, teacher_blocks = hybrid_blocks(student, teacher)\n",
    "        #a_all = [np.random.binomial(1, p) for i in range(len(student_blocks))]\n",
    "        a_all = [np.random.binomial(1, p_all[e]) for i in range(len(student_blocks))]   # hybrid block building schema \n",
    "        print(f\"p_all[e] = {p_all[e]}\")\n",
    "        print(f\"a_all = {a_all}\")\n",
    "        #a_all =[1,0,1,1,1,1,1,1]\n",
    "        for block, a in zip(student_blocks,a_all):\n",
    "            if a==0:\n",
    "                for param in block.parameters():\n",
    "                    param.requires_grad=False\n",
    "            else:\n",
    "                for param in block.parameters():\n",
    "                    param.requires_grad=True      \n",
    "        for image, label in data:\n",
    "            student_blocks, teacher_blocks = hybrid_blocks(student, teacher)\n",
    "            image = image.to(device)\n",
    "            label = label.to(device)\n",
    "            optimizer.zero_grad()\n",
    "            y_pred = forward(image, student, teacher, a_all)\n",
    "            loss = loss_function(y_pred, label)         \n",
    "            loss.backward() \n",
    "            optimizer.step()\n",
    "            val, index_ = torch.max(y_pred, axis=1)\n",
    "            score += torch.sum(index_ == label.data).item()\n",
    "            loss += loss.item()\n",
    "        epoch_score = score / len(data)\n",
    "        epoch_loss = loss / len(data)\n",
    "        train_loss.append(epoch_loss)\n",
    "        train_score.append(epoch_score)\n",
    "        print(\"Training loss: {}, accuracy: {}\".format(epoch_loss, epoch_score))\n",
    "        return train_loss, train_score"
   ]
  },
  {
   "cell_type": "code",
   "execution_count": 6,
   "metadata": {},
   "outputs": [],
   "source": [
    "import ssl\n",
    "ssl._create_default_https_context = ssl._create_unverified_context\n",
    "\n",
    "resnet34 = models.resnet34(pretrained=True)\n",
    "resnet18 = models.resnet18(pretrained=True)\n",
    "resnet18.fc =  nn.Linear(512, 2)\n",
    "resnet34.fc = nn.Linear(512, 2)"
   ]
  },
  {
   "cell_type": "code",
   "execution_count": 7,
   "metadata": {},
   "outputs": [
    {
     "name": "stdout",
     "output_type": "stream",
     "text": [
      "Training:\n",
      "\n",
      "x = [0.8]\n",
      "p_all = [0.8]\n",
      "\n",
      "Epoch no. 0\n",
      "p_all[e] = 0.8\n",
      "a_all = [1, 0, 1, 1, 1, 1, 1, 0]\n"
     ]
    },
    {
     "ename": "KeyboardInterrupt",
     "evalue": "",
     "output_type": "error",
     "traceback": [
      "\u001b[0;31m---------------------------------------------------------------------------\u001b[0m",
      "\u001b[0;31mKeyboardInterrupt\u001b[0m                         Traceback (most recent call last)",
      "Input \u001b[0;32mIn [7]\u001b[0m, in \u001b[0;36m<cell line: 6>\u001b[0;34m()\u001b[0m\n\u001b[1;32m      3\u001b[0m \u001b[38;5;28;01mimport\u001b[39;00m \u001b[38;5;21;01mtime\u001b[39;00m\n\u001b[1;32m      4\u001b[0m start_time \u001b[38;5;241m=\u001b[39m time\u001b[38;5;241m.\u001b[39mtime()\n\u001b[0;32m----> 6\u001b[0m \u001b[43mtraining\u001b[49m\u001b[43m(\u001b[49m\u001b[43mtrainloader\u001b[49m\u001b[43m,\u001b[49m\u001b[43m \u001b[49m\u001b[43mresnet18\u001b[49m\u001b[43m,\u001b[49m\u001b[43m \u001b[49m\u001b[43mresnet34\u001b[49m\u001b[43m,\u001b[49m\u001b[43m \u001b[49m\u001b[38;5;241;43m0.8\u001b[39;49m\u001b[43m,\u001b[49m\u001b[43m \u001b[49m\u001b[43mepochs\u001b[49m\u001b[38;5;241;43m=\u001b[39;49m\u001b[38;5;241;43m1\u001b[39;49m\u001b[43m,\u001b[49m\u001b[43mintervals\u001b[49m\u001b[38;5;241;43m=\u001b[39;49m\u001b[38;5;241;43m1\u001b[39;49m\u001b[43m)\u001b[49m\n\u001b[1;32m      8\u001b[0m \u001b[38;5;28mprint\u001b[39m(\u001b[38;5;124m\"\u001b[39m\u001b[38;5;124m--- \u001b[39m\u001b[38;5;132;01m%s\u001b[39;00m\u001b[38;5;124m seconds ---\u001b[39m\u001b[38;5;124m\"\u001b[39m \u001b[38;5;241m%\u001b[39m (time\u001b[38;5;241m.\u001b[39mtime() \u001b[38;5;241m-\u001b[39m start_time))\n",
      "Input \u001b[0;32mIn [5]\u001b[0m, in \u001b[0;36mtraining\u001b[0;34m(data, student, teacher, p, epochs, intervals)\u001b[0m\n\u001b[1;32m     38\u001b[0m y_pred \u001b[38;5;241m=\u001b[39m forward(image, student, teacher, a_all)\n\u001b[1;32m     39\u001b[0m loss \u001b[38;5;241m=\u001b[39m loss_function(y_pred, label)         \n\u001b[0;32m---> 40\u001b[0m \u001b[43mloss\u001b[49m\u001b[38;5;241;43m.\u001b[39;49m\u001b[43mbackward\u001b[49m\u001b[43m(\u001b[49m\u001b[43m)\u001b[49m \n\u001b[1;32m     41\u001b[0m optimizer\u001b[38;5;241m.\u001b[39mstep()\n\u001b[1;32m     42\u001b[0m val, index_ \u001b[38;5;241m=\u001b[39m torch\u001b[38;5;241m.\u001b[39mmax(y_pred, axis\u001b[38;5;241m=\u001b[39m\u001b[38;5;241m1\u001b[39m)\n",
      "File \u001b[0;32m~/Documents/studia/venv_transfer_learning/lib/python3.8/site-packages/torch/_tensor.py:363\u001b[0m, in \u001b[0;36mTensor.backward\u001b[0;34m(self, gradient, retain_graph, create_graph, inputs)\u001b[0m\n\u001b[1;32m    354\u001b[0m \u001b[38;5;28;01mif\u001b[39;00m has_torch_function_unary(\u001b[38;5;28mself\u001b[39m):\n\u001b[1;32m    355\u001b[0m     \u001b[38;5;28;01mreturn\u001b[39;00m handle_torch_function(\n\u001b[1;32m    356\u001b[0m         Tensor\u001b[38;5;241m.\u001b[39mbackward,\n\u001b[1;32m    357\u001b[0m         (\u001b[38;5;28mself\u001b[39m,),\n\u001b[0;32m   (...)\u001b[0m\n\u001b[1;32m    361\u001b[0m         create_graph\u001b[38;5;241m=\u001b[39mcreate_graph,\n\u001b[1;32m    362\u001b[0m         inputs\u001b[38;5;241m=\u001b[39minputs)\n\u001b[0;32m--> 363\u001b[0m \u001b[43mtorch\u001b[49m\u001b[38;5;241;43m.\u001b[39;49m\u001b[43mautograd\u001b[49m\u001b[38;5;241;43m.\u001b[39;49m\u001b[43mbackward\u001b[49m\u001b[43m(\u001b[49m\u001b[38;5;28;43mself\u001b[39;49m\u001b[43m,\u001b[49m\u001b[43m \u001b[49m\u001b[43mgradient\u001b[49m\u001b[43m,\u001b[49m\u001b[43m \u001b[49m\u001b[43mretain_graph\u001b[49m\u001b[43m,\u001b[49m\u001b[43m \u001b[49m\u001b[43mcreate_graph\u001b[49m\u001b[43m,\u001b[49m\u001b[43m \u001b[49m\u001b[43minputs\u001b[49m\u001b[38;5;241;43m=\u001b[39;49m\u001b[43minputs\u001b[49m\u001b[43m)\u001b[49m\n",
      "File \u001b[0;32m~/Documents/studia/venv_transfer_learning/lib/python3.8/site-packages/torch/autograd/__init__.py:173\u001b[0m, in \u001b[0;36mbackward\u001b[0;34m(tensors, grad_tensors, retain_graph, create_graph, grad_variables, inputs)\u001b[0m\n\u001b[1;32m    168\u001b[0m     retain_graph \u001b[38;5;241m=\u001b[39m create_graph\n\u001b[1;32m    170\u001b[0m \u001b[38;5;66;03m# The reason we repeat same the comment below is that\u001b[39;00m\n\u001b[1;32m    171\u001b[0m \u001b[38;5;66;03m# some Python versions print out the first line of a multi-line function\u001b[39;00m\n\u001b[1;32m    172\u001b[0m \u001b[38;5;66;03m# calls in the traceback and some print out the last line\u001b[39;00m\n\u001b[0;32m--> 173\u001b[0m \u001b[43mVariable\u001b[49m\u001b[38;5;241;43m.\u001b[39;49m\u001b[43m_execution_engine\u001b[49m\u001b[38;5;241;43m.\u001b[39;49m\u001b[43mrun_backward\u001b[49m\u001b[43m(\u001b[49m\u001b[43m  \u001b[49m\u001b[38;5;66;43;03m# Calls into the C++ engine to run the backward pass\u001b[39;49;00m\n\u001b[1;32m    174\u001b[0m \u001b[43m    \u001b[49m\u001b[43mtensors\u001b[49m\u001b[43m,\u001b[49m\u001b[43m \u001b[49m\u001b[43mgrad_tensors_\u001b[49m\u001b[43m,\u001b[49m\u001b[43m \u001b[49m\u001b[43mretain_graph\u001b[49m\u001b[43m,\u001b[49m\u001b[43m \u001b[49m\u001b[43mcreate_graph\u001b[49m\u001b[43m,\u001b[49m\u001b[43m \u001b[49m\u001b[43minputs\u001b[49m\u001b[43m,\u001b[49m\n\u001b[1;32m    175\u001b[0m \u001b[43m    \u001b[49m\u001b[43mallow_unreachable\u001b[49m\u001b[38;5;241;43m=\u001b[39;49m\u001b[38;5;28;43;01mTrue\u001b[39;49;00m\u001b[43m,\u001b[49m\u001b[43m \u001b[49m\u001b[43maccumulate_grad\u001b[49m\u001b[38;5;241;43m=\u001b[39;49m\u001b[38;5;28;43;01mTrue\u001b[39;49;00m\u001b[43m)\u001b[49m\n",
      "\u001b[0;31mKeyboardInterrupt\u001b[0m: "
     ]
    }
   ],
   "source": [
    "device = torch.device('cuda:0' if torch.cuda.is_available() else 'cpu')\n",
    "print(\"Training:\\n\") \n",
    "import time\n",
    "start_time = time.time()\n",
    "\n",
    "training(trainloader, resnet18, resnet34, 0.8, epochs=1,intervals=1)\n",
    "\n",
    "print(\"--- %s seconds ---\" % (time.time() - start_time))"
   ]
  },
  {
   "cell_type": "code",
   "execution_count": null,
   "metadata": {},
   "outputs": [],
   "source": [
    "device = torch.device('cpu')\n",
    "print(\"Training:\\n\") \n",
    "import time\n",
    "start_time = time.time()\n",
    "\n",
    "training(trainloader, resnet18, resnet34, 0.8, epochs=1,intervals=1)\n",
    "\n",
    "print(\"--- %s seconds ---\" % (time.time() - start_time))"
   ]
  },
  {
   "cell_type": "code",
   "execution_count": null,
   "metadata": {},
   "outputs": [],
   "source": []
  }
 ],
 "metadata": {
  "interpreter": {
   "hash": "b6d6db1111a305e1aaf9d7e15b70b30335c8739b270604ea8c5bc8db337e15df"
  },
  "kernelspec": {
   "display_name": "Python 3 (ipykernel)",
   "language": "python",
   "name": "python3"
  },
  "language_info": {
   "codemirror_mode": {
    "name": "ipython",
    "version": 3
   },
   "file_extension": ".py",
   "mimetype": "text/x-python",
   "name": "python",
   "nbconvert_exporter": "python",
   "pygments_lexer": "ipython3",
   "version": "3.8.2"
  }
 },
 "nbformat": 4,
 "nbformat_minor": 4
}
