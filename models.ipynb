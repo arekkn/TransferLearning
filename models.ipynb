{
 "cells": [
  {
   "cell_type": "code",
   "execution_count": 130,
   "metadata": {},
   "outputs": [],
   "source": [
    "import random\n",
    "\n",
    "import numpy as np\n",
    "import pandas as pd\n",
    "import torchvision.models as models\n",
    "import torchvision\n",
    "import torch.nn as nn\n",
    "import torch\n",
    "from torch.optim.lr_scheduler import MultiStepLR\n",
    "\n",
    "from data_loader import *"
   ]
  },
  {
   "cell_type": "code",
   "execution_count": 131,
   "metadata": {},
   "outputs": [],
   "source": [
    "device = torch.device('cpu') # training on CPU"
   ]
  },
  {
   "cell_type": "code",
   "execution_count": 132,
   "metadata": {},
   "outputs": [],
   "source": [
    "def hybrid_blocks(student, teacher):\n",
    "    '''\n",
    "    Function used to get BasicBlocks from ResNet class model\n",
    "    '''\n",
    "    student_layers = [student.layer1, student.layer2, student.layer3, student.layer4]\n",
    "    teacher_layers = [teacher.layer1, teacher.layer2, teacher.layer3, teacher.layer4]\n",
    "\n",
    "    student_blocks = []\n",
    "    teacher_blocks = []\n",
    "    \n",
    "    for i in range(len(student_layers)):\n",
    "        teacher_blocks += list(np.array_split(teacher_layers[i], len(student_layers[i]))) # divide teacher blocks into n list, where n is number of student blocks\n",
    "        student_blocks += [el for el in student_layers[i]]\n",
    "\n",
    "    return student_blocks, teacher_blocks"
   ]
  },
  {
   "cell_type": "code",
   "execution_count": 133,
   "metadata": {},
   "outputs": [],
   "source": [
    "def forward(x, student, teacher, a_all):\n",
    "    '''\n",
    "    Forward function for hybrid ResNet \n",
    "    '''\n",
    "    def _forward_blocks(x, student_blocks, teacher_blocks, a_all):\n",
    "        '''\n",
    "        Forward function containing only hybrid blocks predicitons\n",
    "        '''\n",
    "        len_teacher_blocks = len(teacher_blocks)\n",
    "        len_student_blocks = len(student_blocks)\n",
    "        assert len_teacher_blocks == len_student_blocks   # check if size of blocks is the same\n",
    "        tmp_x = x\n",
    "        for i in range(len_student_blocks): # hybrid block\n",
    "            if a_all[i] == 1: # student path\n",
    "                tmp_x = student_blocks[i].forward(tmp_x)\n",
    "\n",
    "            if a_all[i] == 0: # teacher path\n",
    "                for j in range(len(teacher_blocks[i])):\n",
    "                    tmp_x = teacher_blocks[i][j].forward(tmp_x)\n",
    "\n",
    "        return tmp_x, a_all\n",
    "\n",
    "    student_blocks, teacher_blocks = hybrid_blocks(student, teacher)\n",
    "    \n",
    "    tmp_x = x     # forward pipeline\n",
    "    tmp_x = student.conv1(tmp_x)\n",
    "    tmp_x = student.bn1(tmp_x)\n",
    "    tmp_x = student.relu(tmp_x)\n",
    "    tmp_x = student.maxpool(tmp_x)\n",
    "    tmp_x, a_all = _forward_blocks(tmp_x, student_blocks, teacher_blocks, a_all)\n",
    "    tmp_x = student.avgpool(tmp_x)\n",
    "    tmp_x = torch.flatten(tmp_x, 1)\n",
    "    output = student.fc(tmp_x)\n",
    "\n",
    "    return output"
   ]
  },
  {
   "cell_type": "code",
   "execution_count": 134,
   "metadata": {
    "scrolled": true
   },
   "outputs": [],
   "source": [
    "def training(data, student, teacher, p, epochs = 200,intervals=200):\n",
    "    # dodałem parametr intervals:\n",
    "    # jeśli intervals = epochs     mamy Uniform schedule\n",
    "    # jesli intervals = 1          mamy Linear growth schedule\n",
    "    # jesli 1 < intervals < epochs mamy Review schedule, gdzie intervals oznacza liczbę \"powtórek\"\n",
    "    loss_function = nn.CrossEntropyLoss()\n",
    "    #optimizer = optim.Adam(student.parameters(), lr=0.001)\n",
    "    #optimizer(SGD) i modyfikacja learning rate(MultiStepLR) z artykułu\n",
    "    optimizer = optim.SGD(student.parameters(), lr=0.1, weight_decay=0.0001, momentum=0.9)\n",
    "    scheduler = MultiStepLR(optimizer, milestones=[100,150], gamma=0.1)\n",
    "    train_loss = []\n",
    "    train_score = []\n",
    "    x=np.linspace(p, 1, int(epochs/intervals))\n",
    "    print(f\"x = {x}\")\n",
    "    p_all=np.tile(x,intervals)\n",
    "    print(f\"p_all = {p_all}\")\n",
    "    for e in range(epochs):\n",
    "        print(f\"\\nEpoch no. {e}\")\n",
    "        score = 0\n",
    "        loss = 0\n",
    "        student_blocks, teacher_blocks = hybrid_blocks(student, teacher)\n",
    "        #a_all = [np.random.binomial(1, p) for i in range(len(student_blocks))]\n",
    "        a_all = [np.random.binomial(1, p_all[e]) for i in range(len(student_blocks))]   # hybrid block building schema \n",
    "        print(f\"p_all[e] = {p_all[e]}\")\n",
    "        print(f\"a_all = {a_all}\")\n",
    "        #a_all =[1,0,1,1,1,1,1,1]\n",
    "        for block, a in zip(student_blocks,a_all):\n",
    "            if a==0:\n",
    "                for param in block.parameters():\n",
    "                    param.requires_grad=False\n",
    "            else:\n",
    "                for param in block.parameters():\n",
    "                    param.requires_grad=True      \n",
    "        for image, label in data:\n",
    "            student_blocks, teacher_blocks = hybrid_blocks(student, teacher)\n",
    "            image = image.to(device)\n",
    "            label = label.to(device)\n",
    "            optimizer.zero_grad()\n",
    "            y_pred = forward(image, student, teacher, a_all)\n",
    "            loss = loss_function(y_pred, label)         \n",
    "            loss.backward() \n",
    "            optimizer.step()\n",
    "            val, index_ = torch.max(y_pred, axis=1)\n",
    "            score += torch.sum(index_ == label.data).item()\n",
    "            loss += loss.item()\n",
    "        scheduler.step()\n",
    "            \n",
    "        epoch_score = score / len(data)\n",
    "        epoch_loss = loss / len(data)\n",
    "        train_loss.append(epoch_loss)\n",
    "        train_score.append(epoch_score)\n",
    "        print(\"Training loss: {}, accuracy: {}\".format(epoch_loss, epoch_score))"
   ]
  },
  {
   "cell_type": "code",
   "execution_count": 135,
   "metadata": {},
   "outputs": [
    {
     "name": "stderr",
     "output_type": "stream",
     "text": [
      "Downloading: \"https://download.pytorch.org/models/resnet18-f37072fd.pth\" to C:\\Users\\arekk/.cache\\torch\\hub\\checkpoints\\resnet18-f37072fd.pth\n"
     ]
    },
    {
     "data": {
      "application/vnd.jupyter.widget-view+json": {
       "model_id": "75a28936f82244b19629509c380fadd7",
       "version_major": 2,
       "version_minor": 0
      },
      "text/plain": [
       "HBox(children=(FloatProgress(value=0.0, max=46830571.0), HTML(value='')))"
      ]
     },
     "metadata": {},
     "output_type": "display_data"
    },
    {
     "name": "stdout",
     "output_type": "stream",
     "text": [
      "\n"
     ]
    }
   ],
   "source": [
    "resnet34 = models.resnet34(pretrained=True)\n",
    "resnet18 = models.resnet18(pretrained=True)"
   ]
  },
  {
   "cell_type": "code",
   "execution_count": 136,
   "metadata": {},
   "outputs": [
    {
     "name": "stdout",
     "output_type": "stream",
     "text": [
      "Training:\n",
      "\n",
      "x = [0.8]\n",
      "p_all = [0.8 0.8 0.8 0.8 0.8 0.8]\n",
      "\n",
      "Epoch no. 0\n",
      "p_all[e] = 0.8\n",
      "a_all = [1, 0, 1, 1, 1, 1, 1, 1]\n",
      "Training loss: 0.01453413162380457, accuracy: 48.926829268292686\n",
      "\n",
      "Epoch no. 1\n",
      "p_all[e] = 0.8\n",
      "a_all = [1, 1, 1, 1, 0, 0, 1, 0]\n",
      "Training loss: 0.002248407807201147, accuracy: 53.21951219512195\n",
      "\n",
      "Epoch no. 2\n",
      "p_all[e] = 0.8\n",
      "a_all = [1, 1, 1, 1, 1, 1, 1, 1]\n",
      "Training loss: 0.009130233898758888, accuracy: 52.4390243902439\n",
      "\n",
      "Epoch no. 3\n",
      "p_all[e] = 0.8\n",
      "a_all = [1, 1, 1, 1, 0, 1, 0, 0]\n",
      "Training loss: 0.00344248884357512, accuracy: 55.5\n",
      "\n",
      "Epoch no. 4\n",
      "p_all[e] = 0.8\n",
      "a_all = [1, 1, 1, 0, 1, 1, 1, 1]\n",
      "Training loss: 0.0073669543489813805, accuracy: 53.86585365853659\n",
      "\n",
      "Epoch no. 5\n",
      "p_all[e] = 0.8\n",
      "a_all = [1, 1, 1, 1, 1, 1, 1, 1]\n",
      "Training loss: 0.004468950908631086, accuracy: 56.69512195121951\n"
     ]
    }
   ],
   "source": [
    "print(\"Training:\\n\") \n",
    "training(trainloader, resnet18, resnet34, 0.8,epochs=6,intervals=6)"
   ]
  }
 ],
 "metadata": {
  "kernelspec": {
   "display_name": "Python 3",
   "language": "python",
   "name": "python3"
  },
  "language_info": {
   "codemirror_mode": {
    "name": "ipython",
    "version": 3
   },
   "file_extension": ".py",
   "mimetype": "text/x-python",
   "name": "python",
   "nbconvert_exporter": "python",
   "pygments_lexer": "ipython3",
   "version": "3.7.6"
  }
 },
 "nbformat": 4,
 "nbformat_minor": 4
}
